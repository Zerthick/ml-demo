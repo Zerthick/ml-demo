{
 "cells": [
  {
   "cell_type": "code",
   "execution_count": 1,
   "metadata": {},
   "outputs": [],
   "source": [
    "import pandas as pd\n",
    "import numpy as np\n",
    "import os\n",
    "from collections import Counter\n",
    "import matplotlib.pyplot as plt\n",
    "%matplotlib inline\n",
    "import seaborn as sns"
   ]
  },
  {
   "cell_type": "code",
   "execution_count": 2,
   "metadata": {},
   "outputs": [
    {
     "data": {
      "text/html": [
       "<div>\n",
       "<style scoped>\n",
       "    .dataframe tbody tr th:only-of-type {\n",
       "        vertical-align: middle;\n",
       "    }\n",
       "\n",
       "    .dataframe tbody tr th {\n",
       "        vertical-align: top;\n",
       "    }\n",
       "\n",
       "    .dataframe thead th {\n",
       "        text-align: right;\n",
       "    }\n",
       "</style>\n",
       "<table border=\"1\" class=\"dataframe\">\n",
       "  <thead>\n",
       "    <tr style=\"text-align: right;\">\n",
       "      <th></th>\n",
       "      <th>SalePrice</th>\n",
       "      <th>YearBuilt</th>\n",
       "      <th>YrSold</th>\n",
       "      <th>MonthSold</th>\n",
       "      <th>Size(sqf)</th>\n",
       "      <th>Floor</th>\n",
       "      <th>N_Parkinglot(Ground)</th>\n",
       "      <th>N_Parkinglot(Basement)</th>\n",
       "      <th>TimeToBusStop</th>\n",
       "      <th>TimeToSubway</th>\n",
       "      <th>...</th>\n",
       "      <th>AptManageType_management_in_trust</th>\n",
       "      <th>AptManageType_self_management</th>\n",
       "      <th>SubwayStation_Kyungbuk_uni_hospital</th>\n",
       "      <th>SubwayStation_Daegu</th>\n",
       "      <th>SubwayStation_Sin-nam</th>\n",
       "      <th>SubwayStation_Myung-duk</th>\n",
       "      <th>SubwayStation_Chil-sung-market</th>\n",
       "      <th>SubwayStation_Bangoge</th>\n",
       "      <th>SubwayStation_Banwoldang</th>\n",
       "      <th>SubwayStation_no_subway_nearby</th>\n",
       "    </tr>\n",
       "  </thead>\n",
       "  <tbody>\n",
       "    <tr>\n",
       "      <th>count</th>\n",
       "      <td>5891.000000</td>\n",
       "      <td>5891.000000</td>\n",
       "      <td>5891.000000</td>\n",
       "      <td>5891.000000</td>\n",
       "      <td>5891.000000</td>\n",
       "      <td>5891.000000</td>\n",
       "      <td>5891.000000</td>\n",
       "      <td>5891.000000</td>\n",
       "      <td>5891.000000</td>\n",
       "      <td>5891.000000</td>\n",
       "      <td>...</td>\n",
       "      <td>5891.000000</td>\n",
       "      <td>5891.000000</td>\n",
       "      <td>5891.00000</td>\n",
       "      <td>5891.000000</td>\n",
       "      <td>5891.000000</td>\n",
       "      <td>5891.000000</td>\n",
       "      <td>5891.000000</td>\n",
       "      <td>5891.000000</td>\n",
       "      <td>5891.000000</td>\n",
       "      <td>5891.000000</td>\n",
       "    </tr>\n",
       "    <tr>\n",
       "      <th>mean</th>\n",
       "      <td>221218.112545</td>\n",
       "      <td>2002.967408</td>\n",
       "      <td>2012.691563</td>\n",
       "      <td>6.160244</td>\n",
       "      <td>955.569173</td>\n",
       "      <td>12.026311</td>\n",
       "      <td>195.883551</td>\n",
       "      <td>570.761670</td>\n",
       "      <td>1.756069</td>\n",
       "      <td>2.886776</td>\n",
       "      <td>...</td>\n",
       "      <td>0.940757</td>\n",
       "      <td>0.059243</td>\n",
       "      <td>0.27907</td>\n",
       "      <td>0.014429</td>\n",
       "      <td>0.110508</td>\n",
       "      <td>0.255814</td>\n",
       "      <td>0.019521</td>\n",
       "      <td>0.125106</td>\n",
       "      <td>0.126973</td>\n",
       "      <td>0.068579</td>\n",
       "    </tr>\n",
       "    <tr>\n",
       "      <th>std</th>\n",
       "      <td>106384.186446</td>\n",
       "      <td>8.811782</td>\n",
       "      <td>2.905488</td>\n",
       "      <td>3.387752</td>\n",
       "      <td>382.464050</td>\n",
       "      <td>7.548743</td>\n",
       "      <td>218.597210</td>\n",
       "      <td>408.621075</td>\n",
       "      <td>0.450706</td>\n",
       "      <td>1.266218</td>\n",
       "      <td>...</td>\n",
       "      <td>0.236099</td>\n",
       "      <td>0.236099</td>\n",
       "      <td>0.44858</td>\n",
       "      <td>0.119260</td>\n",
       "      <td>0.313548</td>\n",
       "      <td>0.436355</td>\n",
       "      <td>0.138360</td>\n",
       "      <td>0.330867</td>\n",
       "      <td>0.332971</td>\n",
       "      <td>0.252759</td>\n",
       "    </tr>\n",
       "    <tr>\n",
       "      <th>min</th>\n",
       "      <td>32743.000000</td>\n",
       "      <td>1978.000000</td>\n",
       "      <td>2007.000000</td>\n",
       "      <td>1.000000</td>\n",
       "      <td>135.000000</td>\n",
       "      <td>1.000000</td>\n",
       "      <td>0.000000</td>\n",
       "      <td>0.000000</td>\n",
       "      <td>0.000000</td>\n",
       "      <td>0.000000</td>\n",
       "      <td>...</td>\n",
       "      <td>0.000000</td>\n",
       "      <td>0.000000</td>\n",
       "      <td>0.00000</td>\n",
       "      <td>0.000000</td>\n",
       "      <td>0.000000</td>\n",
       "      <td>0.000000</td>\n",
       "      <td>0.000000</td>\n",
       "      <td>0.000000</td>\n",
       "      <td>0.000000</td>\n",
       "      <td>0.000000</td>\n",
       "    </tr>\n",
       "    <tr>\n",
       "      <th>25%</th>\n",
       "      <td>144247.000000</td>\n",
       "      <td>1993.000000</td>\n",
       "      <td>2010.000000</td>\n",
       "      <td>3.000000</td>\n",
       "      <td>644.000000</td>\n",
       "      <td>6.000000</td>\n",
       "      <td>11.000000</td>\n",
       "      <td>184.000000</td>\n",
       "      <td>2.000000</td>\n",
       "      <td>2.000000</td>\n",
       "      <td>...</td>\n",
       "      <td>1.000000</td>\n",
       "      <td>0.000000</td>\n",
       "      <td>0.00000</td>\n",
       "      <td>0.000000</td>\n",
       "      <td>0.000000</td>\n",
       "      <td>0.000000</td>\n",
       "      <td>0.000000</td>\n",
       "      <td>0.000000</td>\n",
       "      <td>0.000000</td>\n",
       "      <td>0.000000</td>\n",
       "    </tr>\n",
       "    <tr>\n",
       "      <th>50%</th>\n",
       "      <td>207964.000000</td>\n",
       "      <td>2006.000000</td>\n",
       "      <td>2013.000000</td>\n",
       "      <td>6.000000</td>\n",
       "      <td>910.000000</td>\n",
       "      <td>11.000000</td>\n",
       "      <td>100.000000</td>\n",
       "      <td>536.000000</td>\n",
       "      <td>2.000000</td>\n",
       "      <td>3.000000</td>\n",
       "      <td>...</td>\n",
       "      <td>1.000000</td>\n",
       "      <td>0.000000</td>\n",
       "      <td>0.00000</td>\n",
       "      <td>0.000000</td>\n",
       "      <td>0.000000</td>\n",
       "      <td>0.000000</td>\n",
       "      <td>0.000000</td>\n",
       "      <td>0.000000</td>\n",
       "      <td>0.000000</td>\n",
       "      <td>0.000000</td>\n",
       "    </tr>\n",
       "    <tr>\n",
       "      <th>75%</th>\n",
       "      <td>291150.000000</td>\n",
       "      <td>2008.000000</td>\n",
       "      <td>2015.000000</td>\n",
       "      <td>9.000000</td>\n",
       "      <td>1149.000000</td>\n",
       "      <td>17.000000</td>\n",
       "      <td>249.000000</td>\n",
       "      <td>798.000000</td>\n",
       "      <td>2.000000</td>\n",
       "      <td>4.000000</td>\n",
       "      <td>...</td>\n",
       "      <td>1.000000</td>\n",
       "      <td>0.000000</td>\n",
       "      <td>1.00000</td>\n",
       "      <td>0.000000</td>\n",
       "      <td>0.000000</td>\n",
       "      <td>1.000000</td>\n",
       "      <td>0.000000</td>\n",
       "      <td>0.000000</td>\n",
       "      <td>0.000000</td>\n",
       "      <td>0.000000</td>\n",
       "    </tr>\n",
       "    <tr>\n",
       "      <th>max</th>\n",
       "      <td>585840.000000</td>\n",
       "      <td>2015.000000</td>\n",
       "      <td>2017.000000</td>\n",
       "      <td>12.000000</td>\n",
       "      <td>2337.000000</td>\n",
       "      <td>43.000000</td>\n",
       "      <td>713.000000</td>\n",
       "      <td>1321.000000</td>\n",
       "      <td>2.000000</td>\n",
       "      <td>4.000000</td>\n",
       "      <td>...</td>\n",
       "      <td>1.000000</td>\n",
       "      <td>1.000000</td>\n",
       "      <td>1.00000</td>\n",
       "      <td>1.000000</td>\n",
       "      <td>1.000000</td>\n",
       "      <td>1.000000</td>\n",
       "      <td>1.000000</td>\n",
       "      <td>1.000000</td>\n",
       "      <td>1.000000</td>\n",
       "      <td>1.000000</td>\n",
       "    </tr>\n",
       "  </tbody>\n",
       "</table>\n",
       "<p>8 rows × 41 columns</p>\n",
       "</div>"
      ],
      "text/plain": [
       "           SalePrice    YearBuilt       YrSold    MonthSold    Size(sqf)  \\\n",
       "count    5891.000000  5891.000000  5891.000000  5891.000000  5891.000000   \n",
       "mean   221218.112545  2002.967408  2012.691563     6.160244   955.569173   \n",
       "std    106384.186446     8.811782     2.905488     3.387752   382.464050   \n",
       "min     32743.000000  1978.000000  2007.000000     1.000000   135.000000   \n",
       "25%    144247.000000  1993.000000  2010.000000     3.000000   644.000000   \n",
       "50%    207964.000000  2006.000000  2013.000000     6.000000   910.000000   \n",
       "75%    291150.000000  2008.000000  2015.000000     9.000000  1149.000000   \n",
       "max    585840.000000  2015.000000  2017.000000    12.000000  2337.000000   \n",
       "\n",
       "             Floor  N_Parkinglot(Ground)  N_Parkinglot(Basement)  \\\n",
       "count  5891.000000           5891.000000             5891.000000   \n",
       "mean     12.026311            195.883551              570.761670   \n",
       "std       7.548743            218.597210              408.621075   \n",
       "min       1.000000              0.000000                0.000000   \n",
       "25%       6.000000             11.000000              184.000000   \n",
       "50%      11.000000            100.000000              536.000000   \n",
       "75%      17.000000            249.000000              798.000000   \n",
       "max      43.000000            713.000000             1321.000000   \n",
       "\n",
       "       TimeToBusStop  TimeToSubway               ...                \\\n",
       "count    5891.000000   5891.000000               ...                 \n",
       "mean        1.756069      2.886776               ...                 \n",
       "std         0.450706      1.266218               ...                 \n",
       "min         0.000000      0.000000               ...                 \n",
       "25%         2.000000      2.000000               ...                 \n",
       "50%         2.000000      3.000000               ...                 \n",
       "75%         2.000000      4.000000               ...                 \n",
       "max         2.000000      4.000000               ...                 \n",
       "\n",
       "       AptManageType_management_in_trust  AptManageType_self_management  \\\n",
       "count                        5891.000000                    5891.000000   \n",
       "mean                            0.940757                       0.059243   \n",
       "std                             0.236099                       0.236099   \n",
       "min                             0.000000                       0.000000   \n",
       "25%                             1.000000                       0.000000   \n",
       "50%                             1.000000                       0.000000   \n",
       "75%                             1.000000                       0.000000   \n",
       "max                             1.000000                       1.000000   \n",
       "\n",
       "       SubwayStation_Kyungbuk_uni_hospital  SubwayStation_Daegu  \\\n",
       "count                           5891.00000          5891.000000   \n",
       "mean                               0.27907             0.014429   \n",
       "std                                0.44858             0.119260   \n",
       "min                                0.00000             0.000000   \n",
       "25%                                0.00000             0.000000   \n",
       "50%                                0.00000             0.000000   \n",
       "75%                                1.00000             0.000000   \n",
       "max                                1.00000             1.000000   \n",
       "\n",
       "       SubwayStation_Sin-nam  SubwayStation_Myung-duk  \\\n",
       "count            5891.000000              5891.000000   \n",
       "mean                0.110508                 0.255814   \n",
       "std                 0.313548                 0.436355   \n",
       "min                 0.000000                 0.000000   \n",
       "25%                 0.000000                 0.000000   \n",
       "50%                 0.000000                 0.000000   \n",
       "75%                 0.000000                 1.000000   \n",
       "max                 1.000000                 1.000000   \n",
       "\n",
       "       SubwayStation_Chil-sung-market  SubwayStation_Bangoge  \\\n",
       "count                     5891.000000            5891.000000   \n",
       "mean                         0.019521               0.125106   \n",
       "std                          0.138360               0.330867   \n",
       "min                          0.000000               0.000000   \n",
       "25%                          0.000000               0.000000   \n",
       "50%                          0.000000               0.000000   \n",
       "75%                          0.000000               0.000000   \n",
       "max                          1.000000               1.000000   \n",
       "\n",
       "       SubwayStation_Banwoldang  SubwayStation_no_subway_nearby  \n",
       "count               5891.000000                     5891.000000  \n",
       "mean                   0.126973                        0.068579  \n",
       "std                    0.332971                        0.252759  \n",
       "min                    0.000000                        0.000000  \n",
       "25%                    0.000000                        0.000000  \n",
       "50%                    0.000000                        0.000000  \n",
       "75%                    0.000000                        0.000000  \n",
       "max                    1.000000                        1.000000  \n",
       "\n",
       "[8 rows x 41 columns]"
      ]
     },
     "execution_count": 2,
     "metadata": {},
     "output_type": "execute_result"
    }
   ],
   "source": [
    "# set the path of the processed data\n",
    "processed_data_path = os.path.join(os.path.pardir, 'data', 'processed')\n",
    "df= pd.read_csv(os.path.join(processed_data_path, 'out.csv'))\n",
    "\n",
    "# drop the id column\n",
    "df = df.drop(df.columns[0], axis=1)\n",
    "\n",
    "df.describe()"
   ]
  },
  {
   "cell_type": "code",
   "execution_count": 3,
   "metadata": {},
   "outputs": [
    {
     "data": {
      "text/html": [
       "<div>\n",
       "<style scoped>\n",
       "    .dataframe tbody tr th:only-of-type {\n",
       "        vertical-align: middle;\n",
       "    }\n",
       "\n",
       "    .dataframe tbody tr th {\n",
       "        vertical-align: top;\n",
       "    }\n",
       "\n",
       "    .dataframe thead th {\n",
       "        text-align: right;\n",
       "    }\n",
       "</style>\n",
       "<table border=\"1\" class=\"dataframe\">\n",
       "  <thead>\n",
       "    <tr style=\"text-align: right;\">\n",
       "      <th></th>\n",
       "      <th>SalePrice</th>\n",
       "      <th>YearBuilt</th>\n",
       "      <th>YrSold</th>\n",
       "      <th>MonthSold</th>\n",
       "      <th>Size(sqf)</th>\n",
       "      <th>Floor</th>\n",
       "      <th>N_Parkinglot(Ground)</th>\n",
       "      <th>N_Parkinglot(Basement)</th>\n",
       "      <th>TimeToBusStop</th>\n",
       "      <th>TimeToSubway</th>\n",
       "      <th>...</th>\n",
       "      <th>AptManageType_management_in_trust</th>\n",
       "      <th>AptManageType_self_management</th>\n",
       "      <th>SubwayStation_Kyungbuk_uni_hospital</th>\n",
       "      <th>SubwayStation_Daegu</th>\n",
       "      <th>SubwayStation_Sin-nam</th>\n",
       "      <th>SubwayStation_Myung-duk</th>\n",
       "      <th>SubwayStation_Chil-sung-market</th>\n",
       "      <th>SubwayStation_Bangoge</th>\n",
       "      <th>SubwayStation_Banwoldang</th>\n",
       "      <th>SubwayStation_no_subway_nearby</th>\n",
       "    </tr>\n",
       "  </thead>\n",
       "  <tbody>\n",
       "    <tr>\n",
       "      <th>0</th>\n",
       "      <td>141592</td>\n",
       "      <td>2006</td>\n",
       "      <td>2007</td>\n",
       "      <td>8</td>\n",
       "      <td>814</td>\n",
       "      <td>3</td>\n",
       "      <td>111.0</td>\n",
       "      <td>184.0</td>\n",
       "      <td>1</td>\n",
       "      <td>2</td>\n",
       "      <td>...</td>\n",
       "      <td>1</td>\n",
       "      <td>0</td>\n",
       "      <td>1</td>\n",
       "      <td>0</td>\n",
       "      <td>0</td>\n",
       "      <td>0</td>\n",
       "      <td>0</td>\n",
       "      <td>0</td>\n",
       "      <td>0</td>\n",
       "      <td>0</td>\n",
       "    </tr>\n",
       "    <tr>\n",
       "      <th>1</th>\n",
       "      <td>51327</td>\n",
       "      <td>1985</td>\n",
       "      <td>2007</td>\n",
       "      <td>8</td>\n",
       "      <td>587</td>\n",
       "      <td>8</td>\n",
       "      <td>80.0</td>\n",
       "      <td>76.0</td>\n",
       "      <td>2</td>\n",
       "      <td>3</td>\n",
       "      <td>...</td>\n",
       "      <td>0</td>\n",
       "      <td>1</td>\n",
       "      <td>0</td>\n",
       "      <td>1</td>\n",
       "      <td>0</td>\n",
       "      <td>0</td>\n",
       "      <td>0</td>\n",
       "      <td>0</td>\n",
       "      <td>0</td>\n",
       "      <td>0</td>\n",
       "    </tr>\n",
       "    <tr>\n",
       "      <th>2</th>\n",
       "      <td>48672</td>\n",
       "      <td>1985</td>\n",
       "      <td>2007</td>\n",
       "      <td>8</td>\n",
       "      <td>587</td>\n",
       "      <td>6</td>\n",
       "      <td>80.0</td>\n",
       "      <td>76.0</td>\n",
       "      <td>2</td>\n",
       "      <td>3</td>\n",
       "      <td>...</td>\n",
       "      <td>0</td>\n",
       "      <td>1</td>\n",
       "      <td>0</td>\n",
       "      <td>1</td>\n",
       "      <td>0</td>\n",
       "      <td>0</td>\n",
       "      <td>0</td>\n",
       "      <td>0</td>\n",
       "      <td>0</td>\n",
       "      <td>0</td>\n",
       "    </tr>\n",
       "    <tr>\n",
       "      <th>3</th>\n",
       "      <td>380530</td>\n",
       "      <td>2006</td>\n",
       "      <td>2007</td>\n",
       "      <td>8</td>\n",
       "      <td>2056</td>\n",
       "      <td>8</td>\n",
       "      <td>249.0</td>\n",
       "      <td>536.0</td>\n",
       "      <td>2</td>\n",
       "      <td>4</td>\n",
       "      <td>...</td>\n",
       "      <td>1</td>\n",
       "      <td>0</td>\n",
       "      <td>0</td>\n",
       "      <td>0</td>\n",
       "      <td>1</td>\n",
       "      <td>0</td>\n",
       "      <td>0</td>\n",
       "      <td>0</td>\n",
       "      <td>0</td>\n",
       "      <td>0</td>\n",
       "    </tr>\n",
       "    <tr>\n",
       "      <th>4</th>\n",
       "      <td>221238</td>\n",
       "      <td>1993</td>\n",
       "      <td>2007</td>\n",
       "      <td>8</td>\n",
       "      <td>1761</td>\n",
       "      <td>3</td>\n",
       "      <td>523.0</td>\n",
       "      <td>536.0</td>\n",
       "      <td>2</td>\n",
       "      <td>1</td>\n",
       "      <td>...</td>\n",
       "      <td>1</td>\n",
       "      <td>0</td>\n",
       "      <td>0</td>\n",
       "      <td>0</td>\n",
       "      <td>0</td>\n",
       "      <td>1</td>\n",
       "      <td>0</td>\n",
       "      <td>0</td>\n",
       "      <td>0</td>\n",
       "      <td>0</td>\n",
       "    </tr>\n",
       "  </tbody>\n",
       "</table>\n",
       "<p>5 rows × 41 columns</p>\n",
       "</div>"
      ],
      "text/plain": [
       "   SalePrice  YearBuilt  YrSold  MonthSold  Size(sqf)  Floor  \\\n",
       "0     141592       2006    2007          8        814      3   \n",
       "1      51327       1985    2007          8        587      8   \n",
       "2      48672       1985    2007          8        587      6   \n",
       "3     380530       2006    2007          8       2056      8   \n",
       "4     221238       1993    2007          8       1761      3   \n",
       "\n",
       "   N_Parkinglot(Ground)  N_Parkinglot(Basement)  TimeToBusStop  TimeToSubway  \\\n",
       "0                 111.0                   184.0              1             2   \n",
       "1                  80.0                    76.0              2             3   \n",
       "2                  80.0                    76.0              2             3   \n",
       "3                 249.0                   536.0              2             4   \n",
       "4                 523.0                   536.0              2             1   \n",
       "\n",
       "                ...                AptManageType_management_in_trust  \\\n",
       "0               ...                                                1   \n",
       "1               ...                                                0   \n",
       "2               ...                                                0   \n",
       "3               ...                                                1   \n",
       "4               ...                                                1   \n",
       "\n",
       "   AptManageType_self_management  SubwayStation_Kyungbuk_uni_hospital  \\\n",
       "0                              0                                    1   \n",
       "1                              1                                    0   \n",
       "2                              1                                    0   \n",
       "3                              0                                    0   \n",
       "4                              0                                    0   \n",
       "\n",
       "   SubwayStation_Daegu  SubwayStation_Sin-nam  SubwayStation_Myung-duk  \\\n",
       "0                    0                      0                        0   \n",
       "1                    1                      0                        0   \n",
       "2                    1                      0                        0   \n",
       "3                    0                      1                        0   \n",
       "4                    0                      0                        1   \n",
       "\n",
       "   SubwayStation_Chil-sung-market  SubwayStation_Bangoge  \\\n",
       "0                               0                      0   \n",
       "1                               0                      0   \n",
       "2                               0                      0   \n",
       "3                               0                      0   \n",
       "4                               0                      0   \n",
       "\n",
       "   SubwayStation_Banwoldang  SubwayStation_no_subway_nearby  \n",
       "0                         0                               0  \n",
       "1                         0                               0  \n",
       "2                         0                               0  \n",
       "3                         0                               0  \n",
       "4                         0                               0  \n",
       "\n",
       "[5 rows x 41 columns]"
      ]
     },
     "execution_count": 3,
     "metadata": {},
     "output_type": "execute_result"
    }
   ],
   "source": [
    "df.head()"
   ]
  },
  {
   "cell_type": "markdown",
   "metadata": {},
   "source": [
    "## Train-Test Split\n",
    "\n",
    "train:70%, test:30%"
   ]
  },
  {
   "cell_type": "code",
   "execution_count": 4,
   "metadata": {},
   "outputs": [],
   "source": [
    "from sklearn.model_selection import train_test_split\n",
    "\n",
    "X = df.iloc[:, 1:].values\n",
    "y= df.iloc[:, 0].values\n",
    "\n",
    "X_train, X_test, y_train, y_test = train_test_split(X, y, test_size=0.3, random_state=0)"
   ]
  },
  {
   "cell_type": "markdown",
   "metadata": {},
   "source": [
    "## Standardization"
   ]
  },
  {
   "cell_type": "code",
   "execution_count": 5,
   "metadata": {},
   "outputs": [],
   "source": [
    "from sklearn import preprocessing\n",
    "\n",
    "stdsc = preprocessing.StandardScaler()\n",
    "X_train = stdsc.fit_transform(X_train)\n",
    "X_test = stdsc.transform(X_test)"
   ]
  },
  {
   "cell_type": "markdown",
   "metadata": {},
   "source": [
    "## Model Training - Decision Tree"
   ]
  },
  {
   "cell_type": "code",
   "execution_count": 6,
   "metadata": {},
   "outputs": [],
   "source": [
    "from sklearn.tree import DecisionTreeRegressor"
   ]
  },
  {
   "cell_type": "code",
   "execution_count": 7,
   "metadata": {},
   "outputs": [],
   "source": [
    "tr = DecisionTreeRegressor(random_state=0)"
   ]
  },
  {
   "cell_type": "code",
   "execution_count": 8,
   "metadata": {},
   "outputs": [
    {
     "data": {
      "text/plain": [
       "DecisionTreeRegressor(criterion='mse', max_depth=None, max_features=None,\n",
       "           max_leaf_nodes=None, min_impurity_decrease=0.0,\n",
       "           min_impurity_split=None, min_samples_leaf=1,\n",
       "           min_samples_split=2, min_weight_fraction_leaf=0.0,\n",
       "           presort=False, random_state=0, splitter='best')"
      ]
     },
     "execution_count": 8,
     "metadata": {},
     "output_type": "execute_result"
    }
   ],
   "source": [
    "tr.fit(X_train, y_train)"
   ]
  },
  {
   "cell_type": "markdown",
   "metadata": {},
   "source": [
    "## Model Evaluation"
   ]
  },
  {
   "cell_type": "code",
   "execution_count": 9,
   "metadata": {},
   "outputs": [
    {
     "name": "stdout",
     "output_type": "stream",
     "text": [
      "Mean aboslute error : 12494.113\n",
      "Median aboslute error : 7425.000\n",
      "Variance score: 0.965\n"
     ]
    }
   ],
   "source": [
    "from sklearn import metrics\n",
    "\n",
    "y_pred = tr.predict(X_test)\n",
    "\n",
    "print (\"Mean aboslute error : %.3f\" %metrics.mean_absolute_error(y_test, y_pred))\n",
    "print (\"Median aboslute error : %.3f\" %metrics.median_absolute_error(y_test, y_pred))\n",
    "print('Variance score: %.3f' %metrics.explained_variance_score(y_test, y_pred))"
   ]
  },
  {
   "cell_type": "markdown",
   "metadata": {},
   "source": [
    "## Model Training - Random Forest"
   ]
  },
  {
   "cell_type": "code",
   "execution_count": 10,
   "metadata": {},
   "outputs": [],
   "source": [
    "from sklearn.ensemble import RandomForestRegressor"
   ]
  },
  {
   "cell_type": "code",
   "execution_count": 11,
   "metadata": {},
   "outputs": [],
   "source": [
    "rf = RandomForestRegressor(random_state=0)"
   ]
  },
  {
   "cell_type": "code",
   "execution_count": 12,
   "metadata": {},
   "outputs": [
    {
     "name": "stderr",
     "output_type": "stream",
     "text": [
      "C:\\Users\\cgreco\\.virtualenvs\\ml-demo-dcmuB5ai\\lib\\site-packages\\sklearn\\ensemble\\forest.py:246: FutureWarning: The default value of n_estimators will change from 10 in version 0.20 to 100 in 0.22.\n",
      "  \"10 in version 0.20 to 100 in 0.22.\", FutureWarning)\n"
     ]
    },
    {
     "data": {
      "text/plain": [
       "RandomForestRegressor(bootstrap=True, criterion='mse', max_depth=None,\n",
       "           max_features='auto', max_leaf_nodes=None,\n",
       "           min_impurity_decrease=0.0, min_impurity_split=None,\n",
       "           min_samples_leaf=1, min_samples_split=2,\n",
       "           min_weight_fraction_leaf=0.0, n_estimators=10, n_jobs=None,\n",
       "           oob_score=False, random_state=0, verbose=0, warm_start=False)"
      ]
     },
     "execution_count": 12,
     "metadata": {},
     "output_type": "execute_result"
    }
   ],
   "source": [
    "rf.fit(X_train, y_train)"
   ]
  },
  {
   "cell_type": "markdown",
   "metadata": {},
   "source": [
    "## Model Evaluation"
   ]
  },
  {
   "cell_type": "code",
   "execution_count": 13,
   "metadata": {},
   "outputs": [
    {
     "data": {
      "text/plain": [
       "Text(0.5, 1.0, 'Predicted vs Actual Price')"
      ]
     },
     "execution_count": 13,
     "metadata": {},
     "output_type": "execute_result"
    },
    {
     "data": {
      "image/png": "[encoded data removed]",
      "text/plain": [
       "<Figure size 720x720 with 1 Axes>"
      ]
     },
     "metadata": {
      "needs_background": "light"
     },
     "output_type": "display_data"
    }
   ],
   "source": [
    "plt.figure(figsize=(10,10))\n",
    "plt.scatter(rf.predict(X_test), y_test)\n",
    "\n",
    "plt.xlabel('Predicted price')\n",
    "plt.ylabel('Actual price')\n",
    "plt.title('Predicted vs Actual Price')"
   ]
  },
  {
   "cell_type": "code",
   "execution_count": 14,
   "metadata": {},
   "outputs": [
    {
     "name": "stdout",
     "output_type": "stream",
     "text": [
      "Mean aboslute error : 10443.934\n",
      "Median aboslute error : 6437.850\n",
      "Variance score: 0.977\n"
     ]
    }
   ],
   "source": [
    "from sklearn import metrics\n",
    "\n",
    "y_pred = rf.predict(X_test)\n",
    "\n",
    "print (\"Mean aboslute error : %.3f\" %metrics.mean_absolute_error(y_test, y_pred))\n",
    "print (\"Median aboslute error : %.3f\" %metrics.median_absolute_error(y_test, y_pred))\n",
    "print('Variance score: %.3f' %metrics.explained_variance_score(y_test, y_pred))"
   ]
  },
  {
   "cell_type": "code",
   "execution_count": 15,
   "metadata": {},
   "outputs": [],
   "source": [
    "importance_df = pd.Series(rf.feature_importances_, index=df.columns[1:])"
   ]
  },
  {
   "cell_type": "code",
   "execution_count": 16,
   "metadata": {},
   "outputs": [
    {
     "data": {
      "text/plain": [
       "Text(0.5, 1.0, 'Feture Importance in Regression Model')"
      ]
     },
     "execution_count": 16,
     "metadata": {},
     "output_type": "execute_result"
    },
    {
     "data": {
      "image/png": "[encoded data removed]",
      "text/plain": [
       "<Figure size 720x720 with 1 Axes>"
      ]
     },
     "metadata": {
      "needs_background": "light"
     },
     "output_type": "display_data"
    }
   ],
   "source": [
    "plt.figure(figsize=(10,10))\n",
    "importance_df.plot(kind = 'barh')\n",
    "plt.title('Feture Importance in Regression Model')"
   ]
  },
  {
   "cell_type": "markdown",
   "metadata": {},
   "source": [
    "## Save Model to Disk"
   ]
  },
  {
   "cell_type": "code",
   "execution_count": 20,
   "metadata": {},
   "outputs": [],
   "source": [
    "# set the path of the model directory\n",
    "model_dir = os.path.join(os.path.pardir, 'models')\n",
    "\n",
    "from sklearn.externals import joblib\n",
    "\n",
    "model_file_path = os.path.join(model_dir, 'rf_model.joblib')\n",
    "scaler_file_path = os.path.join(model_dir, 'rf_scaler.joblib')\n",
    "\n",
    "with open(model_file_path, 'wb') as m, open(scaler_file_path, 'wb') as s:\n",
    "    joblib.dump(rf, m)\n",
    "    joblib.dump(stdsc, s)"
   ]
  },
  {
   "cell_type": "code",
   "execution_count": null,
   "metadata": {},
   "outputs": [],
   "source": []
  }
 ],
 "metadata": {
  "kernelspec": {
   "display_name": "ml-demo",
   "language": "python",
   "name": "ml-demo"
  },
  "language_info": {
   "codemirror_mode": {
    "name": "ipython",
    "version": 3
   },
   "file_extension": ".py",
   "mimetype": "text/x-python",
   "name": "python",
   "nbconvert_exporter": "python",
   "pygments_lexer": "ipython3",
   "version": "3.7.0"
  }
 },
 "nbformat": 4,
 "nbformat_minor": 2
}
